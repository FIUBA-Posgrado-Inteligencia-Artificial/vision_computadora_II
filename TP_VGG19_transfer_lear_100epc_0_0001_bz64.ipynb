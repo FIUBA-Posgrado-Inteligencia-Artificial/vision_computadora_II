{
 "cells": [
  {
   "cell_type": "markdown",
   "metadata": {},
   "source": [
    "Librerias a utilizar"
   ]
  },
  {
   "cell_type": "code",
   "execution_count": 1,
   "metadata": {},
   "outputs": [],
   "source": [
    "import numpy as np\n",
    "import matplotlib.pyplot as plt\n",
    "import matplotlib.image as mpimg\n",
    "import random\n",
    "import os\n",
    "\n",
    "import torch\n",
    "import torchvision\n",
    "import torchsummary\n",
    "import torchmetrics\n",
    "from torch.utils.tensorboard import SummaryWriter"
   ]
  },
  {
   "cell_type": "markdown",
   "metadata": {},
   "source": [
    "Atributos - definion de clases y size de las imagenes"
   ]
  },
  {
   "cell_type": "code",
   "execution_count": 2,
   "metadata": {},
   "outputs": [],
   "source": [
    "CANTIDAD_CLASES = 4\n",
    "ANCHO_IMAGENES = 256\n",
    "ALTO_IMAGENES = 256"
   ]
  },
  {
   "cell_type": "markdown",
   "metadata": {},
   "source": [
    "Carga de datos con ImageDataGenerator"
   ]
  },
  {
   "cell_type": "code",
   "execution_count": 3,
   "metadata": {},
   "outputs": [],
   "source": [
    "from torchvision.models.vgg import VGG19_Weights\n",
    "\n",
    "weights = VGG19_Weights.IMAGENET1K_V1\n",
    "transforms = weights.transforms()"
   ]
  },
  {
   "cell_type": "markdown",
   "metadata": {},
   "source": [
    "Data aumentation"
   ]
  },
  {
   "cell_type": "code",
   "execution_count": 4,
   "metadata": {},
   "outputs": [],
   "source": [
    "aug_data_transforms = torchvision.transforms.Compose([\n",
    "                        torchvision.transforms.Resize(size=(ANCHO_IMAGENES, ALTO_IMAGENES)),\n",
    "                        torchvision.transforms.RandomHorizontalFlip(0.5),\n",
    "                        torchvision.transforms.RandomResizedCrop(size=(ANCHO_IMAGENES, ALTO_IMAGENES), scale=(0.5, 1.0)),\n",
    "                        torchvision.transforms.ColorJitter(saturation=0.1, hue=0.1),\n",
    "                        torchvision.transforms.ToTensor()\n",
    "                      ])\n",
    "\n",
    "data_transforms = torchvision.transforms.Compose([\n",
    "                    torchvision.transforms.Resize(size=(ANCHO_IMAGENES, ALTO_IMAGENES)),\n",
    "                    torchvision.transforms.ToTensor()\n",
    "                  ])\n",
    "\n",
    "#train_set = torchvision.datasets.ImageFolder(root='./train', transform=aug_data_transforms)\n",
    "#valid_set = torchvision.datasets.ImageFolder(root='./validation', transform=data_transforms)\n",
    "train_set = torchvision.datasets.ImageFolder(root='Dataset_Splitted_/train', transform=aug_data_transforms)\n",
    "valid_set = torchvision.datasets.ImageFolder(root='Dataset_Splitted_/val', transform=data_transforms)\n",
    "test_set = torchvision.datasets.ImageFolder(root='Dataset_Splitted_/test', transform=data_transforms)\n",
    "\n",
    "\n",
    "\n",
    "train_loader = torch.utils.data.DataLoader(train_set, batch_size=64, shuffle=True)\n",
    "valid_loader = torch.utils.data.DataLoader(valid_set, batch_size=64, shuffle=True)\n",
    "test_loader = torch.utils.data.DataLoader(test_set, batch_size=64, shuffle=True)\n"
   ]
  },
  {
   "cell_type": "markdown",
   "metadata": {},
   "source": [
    "Carga de modelo base"
   ]
  },
  {
   "cell_type": "code",
   "execution_count": 5,
   "metadata": {},
   "outputs": [
    {
     "name": "stdout",
     "output_type": "stream",
     "text": [
      "----------------------------------------------------------------\n",
      "        Layer (type)               Output Shape         Param #\n",
      "================================================================\n",
      "            Conv2d-1         [-1, 64, 224, 224]           1,792\n",
      "              ReLU-2         [-1, 64, 224, 224]               0\n",
      "            Conv2d-3         [-1, 64, 224, 224]          36,928\n",
      "              ReLU-4         [-1, 64, 224, 224]               0\n",
      "         MaxPool2d-5         [-1, 64, 112, 112]               0\n",
      "            Conv2d-6        [-1, 128, 112, 112]          73,856\n",
      "              ReLU-7        [-1, 128, 112, 112]               0\n",
      "            Conv2d-8        [-1, 128, 112, 112]         147,584\n",
      "              ReLU-9        [-1, 128, 112, 112]               0\n",
      "        MaxPool2d-10          [-1, 128, 56, 56]               0\n",
      "           Conv2d-11          [-1, 256, 56, 56]         295,168\n",
      "             ReLU-12          [-1, 256, 56, 56]               0\n",
      "           Conv2d-13          [-1, 256, 56, 56]         590,080\n",
      "             ReLU-14          [-1, 256, 56, 56]               0\n",
      "           Conv2d-15          [-1, 256, 56, 56]         590,080\n",
      "             ReLU-16          [-1, 256, 56, 56]               0\n",
      "           Conv2d-17          [-1, 256, 56, 56]         590,080\n",
      "             ReLU-18          [-1, 256, 56, 56]               0\n",
      "        MaxPool2d-19          [-1, 256, 28, 28]               0\n",
      "           Conv2d-20          [-1, 512, 28, 28]       1,180,160\n",
      "             ReLU-21          [-1, 512, 28, 28]               0\n",
      "           Conv2d-22          [-1, 512, 28, 28]       2,359,808\n",
      "             ReLU-23          [-1, 512, 28, 28]               0\n",
      "           Conv2d-24          [-1, 512, 28, 28]       2,359,808\n",
      "             ReLU-25          [-1, 512, 28, 28]               0\n",
      "           Conv2d-26          [-1, 512, 28, 28]       2,359,808\n",
      "             ReLU-27          [-1, 512, 28, 28]               0\n",
      "        MaxPool2d-28          [-1, 512, 14, 14]               0\n",
      "           Conv2d-29          [-1, 512, 14, 14]       2,359,808\n",
      "             ReLU-30          [-1, 512, 14, 14]               0\n",
      "           Conv2d-31          [-1, 512, 14, 14]       2,359,808\n",
      "             ReLU-32          [-1, 512, 14, 14]               0\n",
      "           Conv2d-33          [-1, 512, 14, 14]       2,359,808\n",
      "             ReLU-34          [-1, 512, 14, 14]               0\n",
      "           Conv2d-35          [-1, 512, 14, 14]       2,359,808\n",
      "             ReLU-36          [-1, 512, 14, 14]               0\n",
      "        MaxPool2d-37            [-1, 512, 7, 7]               0\n",
      "AdaptiveAvgPool2d-38            [-1, 512, 7, 7]               0\n",
      "           Linear-39                 [-1, 4096]     102,764,544\n",
      "             ReLU-40                 [-1, 4096]               0\n",
      "          Dropout-41                 [-1, 4096]               0\n",
      "           Linear-42                 [-1, 4096]      16,781,312\n",
      "             ReLU-43                 [-1, 4096]               0\n",
      "          Dropout-44                 [-1, 4096]               0\n",
      "           Linear-45                 [-1, 1000]       4,097,000\n",
      "================================================================\n",
      "Total params: 143,667,240\n",
      "Trainable params: 143,667,240\n",
      "Non-trainable params: 0\n",
      "----------------------------------------------------------------\n",
      "Input size (MB): 0.57\n",
      "Forward/backward pass size (MB): 238.69\n",
      "Params size (MB): 548.05\n",
      "Estimated Total Size (MB): 787.31\n",
      "----------------------------------------------------------------\n"
     ]
    },
    {
     "data": {
      "text/plain": [
       "<bound method Module.modules of VGG(\n",
       "  (features): Sequential(\n",
       "    (0): Conv2d(3, 64, kernel_size=(3, 3), stride=(1, 1), padding=(1, 1))\n",
       "    (1): ReLU(inplace=True)\n",
       "    (2): Conv2d(64, 64, kernel_size=(3, 3), stride=(1, 1), padding=(1, 1))\n",
       "    (3): ReLU(inplace=True)\n",
       "    (4): MaxPool2d(kernel_size=2, stride=2, padding=0, dilation=1, ceil_mode=False)\n",
       "    (5): Conv2d(64, 128, kernel_size=(3, 3), stride=(1, 1), padding=(1, 1))\n",
       "    (6): ReLU(inplace=True)\n",
       "    (7): Conv2d(128, 128, kernel_size=(3, 3), stride=(1, 1), padding=(1, 1))\n",
       "    (8): ReLU(inplace=True)\n",
       "    (9): MaxPool2d(kernel_size=2, stride=2, padding=0, dilation=1, ceil_mode=False)\n",
       "    (10): Conv2d(128, 256, kernel_size=(3, 3), stride=(1, 1), padding=(1, 1))\n",
       "    (11): ReLU(inplace=True)\n",
       "    (12): Conv2d(256, 256, kernel_size=(3, 3), stride=(1, 1), padding=(1, 1))\n",
       "    (13): ReLU(inplace=True)\n",
       "    (14): Conv2d(256, 256, kernel_size=(3, 3), stride=(1, 1), padding=(1, 1))\n",
       "    (15): ReLU(inplace=True)\n",
       "    (16): Conv2d(256, 256, kernel_size=(3, 3), stride=(1, 1), padding=(1, 1))\n",
       "    (17): ReLU(inplace=True)\n",
       "    (18): MaxPool2d(kernel_size=2, stride=2, padding=0, dilation=1, ceil_mode=False)\n",
       "    (19): Conv2d(256, 512, kernel_size=(3, 3), stride=(1, 1), padding=(1, 1))\n",
       "    (20): ReLU(inplace=True)\n",
       "    (21): Conv2d(512, 512, kernel_size=(3, 3), stride=(1, 1), padding=(1, 1))\n",
       "    (22): ReLU(inplace=True)\n",
       "    (23): Conv2d(512, 512, kernel_size=(3, 3), stride=(1, 1), padding=(1, 1))\n",
       "    (24): ReLU(inplace=True)\n",
       "    (25): Conv2d(512, 512, kernel_size=(3, 3), stride=(1, 1), padding=(1, 1))\n",
       "    (26): ReLU(inplace=True)\n",
       "    (27): MaxPool2d(kernel_size=2, stride=2, padding=0, dilation=1, ceil_mode=False)\n",
       "    (28): Conv2d(512, 512, kernel_size=(3, 3), stride=(1, 1), padding=(1, 1))\n",
       "    (29): ReLU(inplace=True)\n",
       "    (30): Conv2d(512, 512, kernel_size=(3, 3), stride=(1, 1), padding=(1, 1))\n",
       "    (31): ReLU(inplace=True)\n",
       "    (32): Conv2d(512, 512, kernel_size=(3, 3), stride=(1, 1), padding=(1, 1))\n",
       "    (33): ReLU(inplace=True)\n",
       "    (34): Conv2d(512, 512, kernel_size=(3, 3), stride=(1, 1), padding=(1, 1))\n",
       "    (35): ReLU(inplace=True)\n",
       "    (36): MaxPool2d(kernel_size=2, stride=2, padding=0, dilation=1, ceil_mode=False)\n",
       "  )\n",
       "  (avgpool): AdaptiveAvgPool2d(output_size=(7, 7))\n",
       "  (classifier): Sequential(\n",
       "    (0): Linear(in_features=25088, out_features=4096, bias=True)\n",
       "    (1): ReLU(inplace=True)\n",
       "    (2): Dropout(p=0.5, inplace=False)\n",
       "    (3): Linear(in_features=4096, out_features=4096, bias=True)\n",
       "    (4): ReLU(inplace=True)\n",
       "    (5): Dropout(p=0.5, inplace=False)\n",
       "    (6): Linear(in_features=4096, out_features=1000, bias=True)\n",
       "  )\n",
       ")>"
      ]
     },
     "execution_count": 5,
     "metadata": {},
     "output_type": "execute_result"
    }
   ],
   "source": [
    "vgg19_model = torchvision.models.vgg19(weights=weights)\n",
    "\n",
    "vgg19_model.to(\"cuda\")\n",
    "\n",
    "torchsummary.summary(vgg19_model, input_size=(3, 224, 224))\n",
    "vgg19_model.modules"
   ]
  },
  {
   "cell_type": "markdown",
   "metadata": {},
   "source": [
    "Congelando capas red base"
   ]
  },
  {
   "cell_type": "code",
   "execution_count": 6,
   "metadata": {},
   "outputs": [],
   "source": [
    "for param in vgg19_model.parameters():\n",
    "    param.requires_grad = False"
   ]
  },
  {
   "cell_type": "markdown",
   "metadata": {},
   "source": [
    "Modificand capa base de acuerdo al numero de clases del problema para este caso 4"
   ]
  },
  {
   "cell_type": "code",
   "execution_count": 7,
   "metadata": {},
   "outputs": [],
   "source": [
    "last_layer_in_features = vgg19_model.classifier[-1].in_features\n",
    "vgg19_model.classifier[-1] = torch.nn.Linear(in_features=last_layer_in_features, out_features=CANTIDAD_CLASES)   ### 4 clases "
   ]
  },
  {
   "cell_type": "code",
   "execution_count": 8,
   "metadata": {},
   "outputs": [
    {
     "data": {
      "text/plain": [
       "<bound method Module.modules of VGG(\n",
       "  (features): Sequential(\n",
       "    (0): Conv2d(3, 64, kernel_size=(3, 3), stride=(1, 1), padding=(1, 1))\n",
       "    (1): ReLU(inplace=True)\n",
       "    (2): Conv2d(64, 64, kernel_size=(3, 3), stride=(1, 1), padding=(1, 1))\n",
       "    (3): ReLU(inplace=True)\n",
       "    (4): MaxPool2d(kernel_size=2, stride=2, padding=0, dilation=1, ceil_mode=False)\n",
       "    (5): Conv2d(64, 128, kernel_size=(3, 3), stride=(1, 1), padding=(1, 1))\n",
       "    (6): ReLU(inplace=True)\n",
       "    (7): Conv2d(128, 128, kernel_size=(3, 3), stride=(1, 1), padding=(1, 1))\n",
       "    (8): ReLU(inplace=True)\n",
       "    (9): MaxPool2d(kernel_size=2, stride=2, padding=0, dilation=1, ceil_mode=False)\n",
       "    (10): Conv2d(128, 256, kernel_size=(3, 3), stride=(1, 1), padding=(1, 1))\n",
       "    (11): ReLU(inplace=True)\n",
       "    (12): Conv2d(256, 256, kernel_size=(3, 3), stride=(1, 1), padding=(1, 1))\n",
       "    (13): ReLU(inplace=True)\n",
       "    (14): Conv2d(256, 256, kernel_size=(3, 3), stride=(1, 1), padding=(1, 1))\n",
       "    (15): ReLU(inplace=True)\n",
       "    (16): Conv2d(256, 256, kernel_size=(3, 3), stride=(1, 1), padding=(1, 1))\n",
       "    (17): ReLU(inplace=True)\n",
       "    (18): MaxPool2d(kernel_size=2, stride=2, padding=0, dilation=1, ceil_mode=False)\n",
       "    (19): Conv2d(256, 512, kernel_size=(3, 3), stride=(1, 1), padding=(1, 1))\n",
       "    (20): ReLU(inplace=True)\n",
       "    (21): Conv2d(512, 512, kernel_size=(3, 3), stride=(1, 1), padding=(1, 1))\n",
       "    (22): ReLU(inplace=True)\n",
       "    (23): Conv2d(512, 512, kernel_size=(3, 3), stride=(1, 1), padding=(1, 1))\n",
       "    (24): ReLU(inplace=True)\n",
       "    (25): Conv2d(512, 512, kernel_size=(3, 3), stride=(1, 1), padding=(1, 1))\n",
       "    (26): ReLU(inplace=True)\n",
       "    (27): MaxPool2d(kernel_size=2, stride=2, padding=0, dilation=1, ceil_mode=False)\n",
       "    (28): Conv2d(512, 512, kernel_size=(3, 3), stride=(1, 1), padding=(1, 1))\n",
       "    (29): ReLU(inplace=True)\n",
       "    (30): Conv2d(512, 512, kernel_size=(3, 3), stride=(1, 1), padding=(1, 1))\n",
       "    (31): ReLU(inplace=True)\n",
       "    (32): Conv2d(512, 512, kernel_size=(3, 3), stride=(1, 1), padding=(1, 1))\n",
       "    (33): ReLU(inplace=True)\n",
       "    (34): Conv2d(512, 512, kernel_size=(3, 3), stride=(1, 1), padding=(1, 1))\n",
       "    (35): ReLU(inplace=True)\n",
       "    (36): MaxPool2d(kernel_size=2, stride=2, padding=0, dilation=1, ceil_mode=False)\n",
       "  )\n",
       "  (avgpool): AdaptiveAvgPool2d(output_size=(7, 7))\n",
       "  (classifier): Sequential(\n",
       "    (0): Linear(in_features=25088, out_features=4096, bias=True)\n",
       "    (1): ReLU(inplace=True)\n",
       "    (2): Dropout(p=0.5, inplace=False)\n",
       "    (3): Linear(in_features=4096, out_features=4096, bias=True)\n",
       "    (4): ReLU(inplace=True)\n",
       "    (5): Dropout(p=0.5, inplace=False)\n",
       "    (6): Linear(in_features=4096, out_features=4, bias=True)\n",
       "  )\n",
       ")>"
      ]
     },
     "execution_count": 8,
     "metadata": {},
     "output_type": "execute_result"
    }
   ],
   "source": [
    "#verificando el cambio\n",
    "vgg19_model.modules"
   ]
  },
  {
   "cell_type": "code",
   "execution_count": 9,
   "metadata": {},
   "outputs": [],
   "source": [
    "def train(model, optimizer, criterion, metric, data, epochs, tb_writer=None):\n",
    "\n",
    "    train_loader = data[\"train\"]\n",
    "    valid_loader = data[\"valid\"]\n",
    "\n",
    "    train_writer = tb_writer[\"train\"]\n",
    "    valid_writer = tb_writer[\"valid\"]\n",
    "\n",
    "    if tb_writer:\n",
    "        train_writer.add_graph(model, torch.zeros((1, 3, data[\"image_width\"], data[\"image_height\"])))\n",
    "        valid_writer.add_graph(model, torch.zeros((1, 3, data[\"image_width\"], data[\"image_height\"])))\n",
    "\n",
    "    if torch.cuda.is_available():\n",
    "        model.to(\"cuda\")\n",
    "        metric.to(\"cuda\")\n",
    "\n",
    "    train_loss = []\n",
    "    train_acc = []\n",
    "    valid_loss = []\n",
    "    valid_acc = []\n",
    "\n",
    "    for epoch in range(epochs):\n",
    "\n",
    "        # Pongo el modelo en modo entrenamiento\n",
    "        model.train()\n",
    "\n",
    "        epoch_train_loss = 0.0\n",
    "        epoch_train_accuracy = 0.0\n",
    "\n",
    "        for train_data, train_target in train_loader:\n",
    "\n",
    "            if torch.cuda.is_available():\n",
    "                train_data = train_data.to(\"cuda\")\n",
    "                train_target = train_target.to(\"cuda\")\n",
    "\n",
    "            optimizer.zero_grad()\n",
    "            output = model(train_data.float())\n",
    "            loss = criterion(output, train_target)\n",
    "            epoch_train_loss += loss.item()\n",
    "            loss.backward()\n",
    "            optimizer.step()\n",
    "\n",
    "            accuracy = metric(output, train_target)\n",
    "            epoch_train_accuracy += accuracy.item()\n",
    "\n",
    "        epoch_train_loss = epoch_train_loss / len(train_loader)\n",
    "        epoch_train_accuracy = epoch_train_accuracy / len(train_loader)\n",
    "        train_loss.append(epoch_train_loss)\n",
    "        train_acc.append(epoch_train_accuracy)\n",
    "\n",
    "        # Pongo el modelo en modo testeo\n",
    "        model.eval()\n",
    "\n",
    "        epoch_valid_loss = 0.0\n",
    "        epoch_valid_accuracy = 0.0\n",
    "\n",
    "        for valid_data, valid_target in valid_loader:\n",
    "            if torch.cuda.is_available():\n",
    "                valid_data = valid_data.to(\"cuda\")\n",
    "                valid_target = valid_target.to(\"cuda\")\n",
    "\n",
    "            output = model(valid_data.float())\n",
    "            epoch_valid_loss += criterion(output, valid_target).item()\n",
    "            epoch_valid_accuracy += metric(output, valid_target).item()\n",
    "\n",
    "        epoch_valid_loss = epoch_valid_loss / len(valid_loader)\n",
    "        epoch_valid_accuracy = epoch_valid_accuracy / len(valid_loader)\n",
    "        valid_loss.append(epoch_valid_loss)\n",
    "        valid_acc.append(epoch_valid_accuracy)\n",
    "\n",
    "        print(\"Epoch: {}/{} - Train loss {:.6f} - Train Accuracy {:.6f} - Valid Loss {:.6f} - Valid Accuracy {:.6f}\".format(\n",
    "        epoch+1, epochs, epoch_train_loss, epoch_train_accuracy, epoch_valid_loss, epoch_valid_accuracy))\n",
    "\n",
    "        if tb_writer:\n",
    "            train_writer.add_scalar(\"loss\", epoch_train_loss, epoch)\n",
    "            valid_writer.add_scalar(\"loss\", epoch_valid_loss, epoch)\n",
    "            train_writer.add_scalar(\"accuracy\", epoch_train_accuracy, epoch)\n",
    "            valid_writer.add_scalar(\"accuracy\", epoch_valid_accuracy, epoch)\n",
    "            train_writer.flush()\n",
    "            valid_writer.flush()\n",
    "\n",
    "    history = {}\n",
    "    history[\"train_loss\"] = train_loss\n",
    "    history[\"train_acc\"] = train_acc\n",
    "    history[\"valid_loss\"] = valid_loss\n",
    "    history[\"valid_acc\"] = valid_acc\n",
    "\n",
    "    return history"
   ]
  },
  {
   "cell_type": "code",
   "execution_count": 10,
   "metadata": {},
   "outputs": [
    {
     "data": {
      "text/plain": [
       "'cuda'"
      ]
     },
     "execution_count": 10,
     "metadata": {},
     "output_type": "execute_result"
    }
   ],
   "source": [
    "#verificar si esta activa la gpu\n",
    "device = \"cuda\" if torch.cuda.is_available() else \"cpu\"\n",
    "device"
   ]
  },
  {
   "cell_type": "markdown",
   "metadata": {},
   "source": [
    "entrenamiento"
   ]
  },
  {
   "cell_type": "code",
   "execution_count": 11,
   "metadata": {},
   "outputs": [
    {
     "name": "stdout",
     "output_type": "stream",
     "text": [
      "Epoch: 1/100 - Train loss 1.090563 - Train Accuracy 0.598231 - Valid Loss 0.826861 - Valid Accuracy 0.733496\n",
      "Epoch: 2/100 - Train loss 0.797555 - Train Accuracy 0.753302 - Valid Loss 0.643118 - Valid Accuracy 0.771442\n",
      "Epoch: 3/100 - Train loss 0.671492 - Train Accuracy 0.783255 - Valid Loss 0.541068 - Valid Accuracy 0.813041\n",
      "Epoch: 4/100 - Train loss 0.594936 - Train Accuracy 0.802358 - Valid Loss 0.500236 - Valid Accuracy 0.844562\n",
      "Epoch: 5/100 - Train loss 0.542230 - Train Accuracy 0.826179 - Valid Loss 0.450357 - Valid Accuracy 0.859916\n",
      "Epoch: 6/100 - Train loss 0.523491 - Train Accuracy 0.827476 - Valid Loss 0.429726 - Valid Accuracy 0.862013\n",
      "Epoch: 7/100 - Train loss 0.478925 - Train Accuracy 0.843573 - Valid Loss 0.423803 - Valid Accuracy 0.860051\n",
      "Epoch: 8/100 - Train loss 0.458456 - Train Accuracy 0.849882 - Valid Loss 0.407904 - Valid Accuracy 0.864786\n",
      "Epoch: 9/100 - Train loss 0.444183 - Train Accuracy 0.850531 - Valid Loss 0.384797 - Valid Accuracy 0.879735\n",
      "Epoch: 10/100 - Train loss 0.427676 - Train Accuracy 0.856663 - Valid Loss 0.375962 - Valid Accuracy 0.881967\n",
      "Epoch: 11/100 - Train loss 0.416426 - Train Accuracy 0.859316 - Valid Loss 0.376945 - Valid Accuracy 0.880141\n",
      "Epoch: 12/100 - Train loss 0.400974 - Train Accuracy 0.859906 - Valid Loss 0.365899 - Valid Accuracy 0.895495\n",
      "Epoch: 13/100 - Train loss 0.415168 - Train Accuracy 0.849528 - Valid Loss 0.353470 - Valid Accuracy 0.882238\n",
      "Epoch: 14/100 - Train loss 0.390251 - Train Accuracy 0.858373 - Valid Loss 0.351343 - Valid Accuracy 0.891031\n",
      "Epoch: 15/100 - Train loss 0.376237 - Train Accuracy 0.861144 - Valid Loss 0.355954 - Valid Accuracy 0.891166\n",
      "Epoch: 16/100 - Train loss 0.380423 - Train Accuracy 0.863620 - Valid Loss 0.346330 - Valid Accuracy 0.882508\n",
      "Epoch: 17/100 - Train loss 0.378611 - Train Accuracy 0.867453 - Valid Loss 0.327627 - Valid Accuracy 0.901921\n",
      "Epoch: 18/100 - Train loss 0.368828 - Train Accuracy 0.872465 - Valid Loss 0.335202 - Valid Accuracy 0.891437\n",
      "Epoch: 19/100 - Train loss 0.364579 - Train Accuracy 0.867217 - Valid Loss 0.349982 - Valid Accuracy 0.882643\n",
      "Epoch: 20/100 - Train loss 0.358498 - Train Accuracy 0.874175 - Valid Loss 0.329628 - Valid Accuracy 0.897727\n",
      "Epoch: 21/100 - Train loss 0.359141 - Train Accuracy 0.869222 - Valid Loss 0.330380 - Valid Accuracy 0.888934\n",
      "Epoch: 22/100 - Train loss 0.350551 - Train Accuracy 0.873644 - Valid Loss 0.325483 - Valid Accuracy 0.895360\n",
      "Epoch: 23/100 - Train loss 0.337523 - Train Accuracy 0.882017 - Valid Loss 0.322092 - Valid Accuracy 0.886431\n",
      "Epoch: 24/100 - Train loss 0.346227 - Train Accuracy 0.873113 - Valid Loss 0.330513 - Valid Accuracy 0.884605\n",
      "Epoch: 25/100 - Train loss 0.330913 - Train Accuracy 0.882488 - Valid Loss 0.323451 - Valid Accuracy 0.895495\n",
      "Epoch: 26/100 - Train loss 0.336786 - Train Accuracy 0.878950 - Valid Loss 0.317636 - Valid Accuracy 0.895630\n",
      "Epoch: 27/100 - Train loss 0.332155 - Train Accuracy 0.877948 - Valid Loss 0.321454 - Valid Accuracy 0.893534\n",
      "Epoch: 28/100 - Train loss 0.326131 - Train Accuracy 0.876769 - Valid Loss 0.319347 - Valid Accuracy 0.899824\n",
      "Epoch: 29/100 - Train loss 0.316495 - Train Accuracy 0.887264 - Valid Loss 0.316616 - Valid Accuracy 0.897863\n",
      "Epoch: 30/100 - Train loss 0.327089 - Train Accuracy 0.881486 - Valid Loss 0.310165 - Valid Accuracy 0.899959\n",
      "Epoch: 31/100 - Train loss 0.320821 - Train Accuracy 0.886321 - Valid Loss 0.313085 - Valid Accuracy 0.895630\n",
      "Epoch: 32/100 - Train loss 0.325133 - Train Accuracy 0.877535 - Valid Loss 0.329607 - Valid Accuracy 0.889205\n",
      "Epoch: 33/100 - Train loss 0.327154 - Train Accuracy 0.874587 - Valid Loss 0.305880 - Valid Accuracy 0.899824\n",
      "Epoch: 34/100 - Train loss 0.310987 - Train Accuracy 0.888738 - Valid Loss 0.309764 - Valid Accuracy 0.884064\n",
      "Epoch: 35/100 - Train loss 0.325256 - Train Accuracy 0.880660 - Valid Loss 0.316746 - Valid Accuracy 0.893398\n",
      "Epoch: 36/100 - Train loss 0.319511 - Train Accuracy 0.878774 - Valid Loss 0.328984 - Valid Accuracy 0.893669\n",
      "Epoch: 37/100 - Train loss 0.305670 - Train Accuracy 0.885908 - Valid Loss 0.305179 - Valid Accuracy 0.895495\n",
      "Epoch: 38/100 - Train loss 0.321551 - Train Accuracy 0.875708 - Valid Loss 0.305333 - Valid Accuracy 0.895630\n",
      "Epoch: 39/100 - Train loss 0.295396 - Train Accuracy 0.889328 - Valid Loss 0.296306 - Valid Accuracy 0.904153\n",
      "Epoch: 40/100 - Train loss 0.307483 - Train Accuracy 0.890271 - Valid Loss 0.299624 - Valid Accuracy 0.899959\n",
      "Epoch: 41/100 - Train loss 0.305401 - Train Accuracy 0.885849 - Valid Loss 0.308873 - Valid Accuracy 0.902192\n",
      "Epoch: 42/100 - Train loss 0.309479 - Train Accuracy 0.887028 - Valid Loss 0.287782 - Valid Accuracy 0.906385\n",
      "Epoch: 43/100 - Train loss 0.298922 - Train Accuracy 0.888856 - Valid Loss 0.305330 - Valid Accuracy 0.899959\n",
      "Epoch: 44/100 - Train loss 0.303892 - Train Accuracy 0.885790 - Valid Loss 0.295921 - Valid Accuracy 0.904288\n",
      "Epoch: 45/100 - Train loss 0.305645 - Train Accuracy 0.883373 - Valid Loss 0.307014 - Valid Accuracy 0.893534\n",
      "Epoch: 46/100 - Train loss 0.307995 - Train Accuracy 0.883785 - Valid Loss 0.298733 - Valid Accuracy 0.897863\n",
      "Epoch: 47/100 - Train loss 0.312461 - Train Accuracy 0.880778 - Valid Loss 0.301362 - Valid Accuracy 0.897998\n",
      "Epoch: 48/100 - Train loss 0.306111 - Train Accuracy 0.886144 - Valid Loss 0.297273 - Valid Accuracy 0.893534\n",
      "Epoch: 49/100 - Train loss 0.292963 - Train Accuracy 0.891392 - Valid Loss 0.297578 - Valid Accuracy 0.897863\n",
      "Epoch: 50/100 - Train loss 0.308800 - Train Accuracy 0.884788 - Valid Loss 0.282794 - Valid Accuracy 0.904288\n",
      "Epoch: 51/100 - Train loss 0.293420 - Train Accuracy 0.890861 - Valid Loss 0.287194 - Valid Accuracy 0.904424\n",
      "Epoch: 52/100 - Train loss 0.299684 - Train Accuracy 0.887087 - Valid Loss 0.297677 - Valid Accuracy 0.897727\n",
      "Epoch: 53/100 - Train loss 0.299248 - Train Accuracy 0.886085 - Valid Loss 0.286007 - Valid Accuracy 0.902056\n",
      "Epoch: 54/100 - Train loss 0.294294 - Train Accuracy 0.891981 - Valid Loss 0.294393 - Valid Accuracy 0.899959\n",
      "Epoch: 55/100 - Train loss 0.291712 - Train Accuracy 0.889505 - Valid Loss 0.293654 - Valid Accuracy 0.902056\n",
      "Epoch: 56/100 - Train loss 0.296173 - Train Accuracy 0.886085 - Valid Loss 0.292005 - Valid Accuracy 0.900095\n",
      "Epoch: 57/100 - Train loss 0.292392 - Train Accuracy 0.891745 - Valid Loss 0.295223 - Valid Accuracy 0.895901\n",
      "Epoch: 58/100 - Train loss 0.286306 - Train Accuracy 0.895578 - Valid Loss 0.286457 - Valid Accuracy 0.899959\n",
      "Epoch: 59/100 - Train loss 0.293079 - Train Accuracy 0.890507 - Valid Loss 0.291413 - Valid Accuracy 0.899959\n",
      "Epoch: 60/100 - Train loss 0.305465 - Train Accuracy 0.883962 - Valid Loss 0.296187 - Valid Accuracy 0.893534\n",
      "Epoch: 61/100 - Train loss 0.288494 - Train Accuracy 0.894929 - Valid Loss 0.289940 - Valid Accuracy 0.888934\n",
      "Epoch: 62/100 - Train loss 0.279883 - Train Accuracy 0.894988 - Valid Loss 0.285967 - Valid Accuracy 0.899959\n",
      "Epoch: 63/100 - Train loss 0.284548 - Train Accuracy 0.892276 - Valid Loss 0.274522 - Valid Accuracy 0.904153\n",
      "Epoch: 64/100 - Train loss 0.281612 - Train Accuracy 0.893750 - Valid Loss 0.294312 - Valid Accuracy 0.893534\n",
      "Epoch: 65/100 - Train loss 0.280516 - Train Accuracy 0.898467 - Valid Loss 0.288027 - Valid Accuracy 0.895766\n",
      "Epoch: 66/100 - Train loss 0.279090 - Train Accuracy 0.896698 - Valid Loss 0.286754 - Valid Accuracy 0.899959\n",
      "Epoch: 67/100 - Train loss 0.294935 - Train Accuracy 0.889917 - Valid Loss 0.282999 - Valid Accuracy 0.891301\n",
      "Epoch: 68/100 - Train loss 0.282178 - Train Accuracy 0.895519 - Valid Loss 0.285490 - Valid Accuracy 0.899959\n",
      "Epoch: 69/100 - Train loss 0.266577 - Train Accuracy 0.902653 - Valid Loss 0.277135 - Valid Accuracy 0.906521\n",
      "Epoch: 70/100 - Train loss 0.290627 - Train Accuracy 0.894929 - Valid Loss 0.282770 - Valid Accuracy 0.895630\n",
      "Epoch: 71/100 - Train loss 0.272845 - Train Accuracy 0.897642 - Valid Loss 0.284022 - Valid Accuracy 0.902056\n",
      "Epoch: 72/100 - Train loss 0.280416 - Train Accuracy 0.896757 - Valid Loss 0.279179 - Valid Accuracy 0.902056\n",
      "Epoch: 73/100 - Train loss 0.283631 - Train Accuracy 0.889505 - Valid Loss 0.290816 - Valid Accuracy 0.891166\n",
      "Epoch: 74/100 - Train loss 0.278986 - Train Accuracy 0.897583 - Valid Loss 0.280215 - Valid Accuracy 0.904153\n",
      "Epoch: 75/100 - Train loss 0.276755 - Train Accuracy 0.895165 - Valid Loss 0.280782 - Valid Accuracy 0.895630\n",
      "Epoch: 76/100 - Train loss 0.277270 - Train Accuracy 0.896816 - Valid Loss 0.292455 - Valid Accuracy 0.891437\n",
      "Epoch: 77/100 - Train loss 0.277985 - Train Accuracy 0.895814 - Valid Loss 0.288772 - Valid Accuracy 0.897998\n",
      "Epoch: 78/100 - Train loss 0.281316 - Train Accuracy 0.898821 - Valid Loss 0.291380 - Valid Accuracy 0.902327\n",
      "Epoch: 79/100 - Train loss 0.271531 - Train Accuracy 0.898585 - Valid Loss 0.280712 - Valid Accuracy 0.899824\n",
      "Epoch: 80/100 - Train loss 0.280304 - Train Accuracy 0.891686 - Valid Loss 0.297939 - Valid Accuracy 0.891572\n",
      "Epoch: 81/100 - Train loss 0.276376 - Train Accuracy 0.895814 - Valid Loss 0.291959 - Valid Accuracy 0.891437\n",
      "Epoch: 82/100 - Train loss 0.271186 - Train Accuracy 0.899351 - Valid Loss 0.274327 - Valid Accuracy 0.901921\n",
      "Epoch: 83/100 - Train loss 0.276356 - Train Accuracy 0.891392 - Valid Loss 0.292753 - Valid Accuracy 0.885011\n",
      "Epoch: 84/100 - Train loss 0.281095 - Train Accuracy 0.893809 - Valid Loss 0.289838 - Valid Accuracy 0.880682\n",
      "Epoch: 85/100 - Train loss 0.280966 - Train Accuracy 0.891038 - Valid Loss 0.280980 - Valid Accuracy 0.902056\n",
      "Epoch: 86/100 - Train loss 0.280290 - Train Accuracy 0.895224 - Valid Loss 0.274241 - Valid Accuracy 0.901921\n",
      "Epoch: 87/100 - Train loss 0.275126 - Train Accuracy 0.899116 - Valid Loss 0.277724 - Valid Accuracy 0.900095\n",
      "Epoch: 88/100 - Train loss 0.276952 - Train Accuracy 0.895460 - Valid Loss 0.285156 - Valid Accuracy 0.897998\n",
      "Epoch: 89/100 - Train loss 0.275453 - Train Accuracy 0.895224 - Valid Loss 0.273949 - Valid Accuracy 0.902056\n",
      "Epoch: 90/100 - Train loss 0.273222 - Train Accuracy 0.898231 - Valid Loss 0.277712 - Valid Accuracy 0.899959\n",
      "Epoch: 91/100 - Train loss 0.265401 - Train Accuracy 0.899646 - Valid Loss 0.284905 - Valid Accuracy 0.895495\n",
      "Epoch: 92/100 - Train loss 0.269782 - Train Accuracy 0.898467 - Valid Loss 0.273715 - Valid Accuracy 0.902192\n",
      "Epoch: 93/100 - Train loss 0.271944 - Train Accuracy 0.898290 - Valid Loss 0.265658 - Valid Accuracy 0.906250\n",
      "Epoch: 94/100 - Train loss 0.261256 - Train Accuracy 0.901828 - Valid Loss 0.272025 - Valid Accuracy 0.895495\n",
      "Epoch: 95/100 - Train loss 0.284142 - Train Accuracy 0.887559 - Valid Loss 0.289223 - Valid Accuracy 0.891301\n",
      "Epoch: 96/100 - Train loss 0.271330 - Train Accuracy 0.900354 - Valid Loss 0.274858 - Valid Accuracy 0.897592\n",
      "Epoch: 97/100 - Train loss 0.273068 - Train Accuracy 0.893514 - Valid Loss 0.281864 - Valid Accuracy 0.893263\n",
      "Epoch: 98/100 - Train loss 0.268069 - Train Accuracy 0.901592 - Valid Loss 0.284551 - Valid Accuracy 0.893669\n",
      "Epoch: 99/100 - Train loss 0.264500 - Train Accuracy 0.898526 - Valid Loss 0.277872 - Valid Accuracy 0.897998\n",
      "Epoch: 100/100 - Train loss 0.264323 - Train Accuracy 0.898526 - Valid Loss 0.282629 - Valid Accuracy 0.891301\n"
     ]
    },
    {
     "data": {
      "text/plain": [
       "<matplotlib.legend.Legend at 0x23e25e34290>"
      ]
     },
     "execution_count": 11,
     "metadata": {},
     "output_type": "execute_result"
    },
    {
     "data": {
      "image/png": "[encoded data removed]",
      "text/plain": [
       "<Figure size 1000x1000 with 2 Axes>"
      ]
     },
     "metadata": {},
     "output_type": "display_data"
    }
   ],
   "source": [
    "Epochs=100\n",
    "learning_rate= 0.0001\n",
    "optimizer = torch.optim.Adam(vgg19_model.parameters(), lr=learning_rate)\n",
    "loss = torch.nn.CrossEntropyLoss()\n",
    "metric = torchmetrics.Accuracy(task='multiclass', num_classes=CANTIDAD_CLASES)\n",
    "data = {\"train\": train_loader, \"valid\": valid_loader, \"image_width\": ANCHO_IMAGENES, \"image_height\": ALTO_IMAGENES}\n",
    "writer = {\"train\": SummaryWriter(log_dir=\"transfer_learning_vgg/train\"),\n",
    "          \"valid\": SummaryWriter(log_dir=\"transfer_learning_vgg/valid\")}\n",
    "\n",
    "history = train(vgg19_model.to(\"cpu\"),\n",
    "                optimizer,\n",
    "                loss,\n",
    "                metric,\n",
    "                data,\n",
    "                Epochs,\n",
    "                writer)\n",
    "\n",
    "fig, axs = plt.subplots(2, 1, figsize=(10, 10))\n",
    "\n",
    "axs[0].plot(history[\"train_loss\"])\n",
    "axs[0].plot(history[\"valid_loss\"])\n",
    "axs[0].title.set_text('Error de Entrenamiento vs Validación')\n",
    "axs[0].legend(['Train', 'Valid'])\n",
    "\n",
    "axs[1].plot(history[\"train_acc\"])\n",
    "axs[1].plot(history[\"valid_acc\"])\n",
    "axs[1].title.set_text('Accuracy de Entrenamiento vs Validación')\n",
    "axs[1].legend(['Train', 'Valid'])"
   ]
  },
  {
   "cell_type": "code",
   "execution_count": 12,
   "metadata": {},
   "outputs": [],
   "source": [
    "#funcion para calcular accuracy\n",
    "def accuracy(model, loader):\n",
    "    num_correct = 0\n",
    "    num_total = 0\n",
    "    model.eval()\n",
    "    model = model.to(device=device)\n",
    "    with torch.no_grad():\n",
    "        for (xi, yi) in loader:\n",
    "            xi = xi.to(device=device, dtype = torch.float32)\n",
    "            yi = yi.to(device=device, dtype = torch.long)\n",
    "            scores = model(xi) # mb_size, 10\n",
    "            _, pred = scores.max(dim=1) #pred shape (mb_size )\n",
    "            num_correct += (pred == yi).sum() # pred shape (mb_size), yi shape (mb_size, 1)\n",
    "            num_total += pred.size(0)\n",
    "        return float(num_correct)/num_total"
   ]
  },
  {
   "cell_type": "code",
   "execution_count": 13,
   "metadata": {},
   "outputs": [
    {
     "name": "stdout",
     "output_type": "stream",
     "text": [
      "Accuracy Training 0.9124850657108722\n",
      "Accuracy Validation 0.894484412470024\n",
      "Accuracy Testing 0.8983451536643026\n"
     ]
    }
   ],
   "source": [
    "\n",
    "ac_train=accuracy(vgg19_model, train_loader)\n",
    "ac_val=accuracy(vgg19_model, valid_loader) \n",
    "ac_test=accuracy(vgg19_model, test_loader)\n",
    "\n",
    "print(f\"Accuracy Training {ac_train}\")\n",
    "print(f\"Accuracy Validation {ac_val}\")\n",
    "print(f\"Accuracy Testing {ac_test}\")"
   ]
  },
  {
   "cell_type": "code",
   "execution_count": 15,
   "metadata": {},
   "outputs": [],
   "source": [
    "PATH = 'Modelos_entrenados/vgg19v1_hiper2.pt'\n",
    "#Modelos_entrenados\n",
    "torch.save(vgg19_model.state_dict(), PATH)"
   ]
  }
 ],
 "metadata": {
  "kernelspec": {
   "display_name": "CUDA_env",
   "language": "python",
   "name": "python3"
  },
  "language_info": {
   "codemirror_mode": {
    "name": "ipython",
    "version": 3
   },
   "file_extension": ".py",
   "mimetype": "text/x-python",
   "name": "python",
   "nbconvert_exporter": "python",
   "pygments_lexer": "ipython3",
   "version": "3.11.8"
  }
 },
 "nbformat": 4,
 "nbformat_minor": 2
}
